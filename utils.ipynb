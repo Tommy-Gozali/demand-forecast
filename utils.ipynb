{
  "nbformat": 4,
  "nbformat_minor": 0,
  "metadata": {
    "colab": {
      "provenance": [],
      "authorship_tag": "ABX9TyMOcKIxyy7tWJB0CCXVUPIz",
      "include_colab_link": true
    },
    "kernelspec": {
      "name": "python3",
      "display_name": "Python 3"
    },
    "language_info": {
      "name": "python"
    }
  },
  "cells": [
    {
      "cell_type": "markdown",
      "metadata": {
        "id": "view-in-github",
        "colab_type": "text"
      },
      "source": [
        "<a href=\"https://colab.research.google.com/github/Tommy-Gozali/demand-forecast/blob/main/utils.ipynb\" target=\"_parent\"><img src=\"https://colab.research.google.com/assets/colab-badge.svg\" alt=\"Open In Colab\"/></a>"
      ]
    },
    {
      "cell_type": "code",
      "execution_count": null,
      "metadata": {
        "id": "5yeieL_8X3Oa"
      },
      "outputs": [],
      "source": [
        "import pandas as pd\n",
        "import numpy  as np\n",
        "\n",
        "class FeatureEngineering:\n",
        "  \"class to do feature engineering\"\n",
        "  def get_basic_temporal_features(self,\n",
        "                                  df: pd.DataFrame)-> pd.DataFrame:\n",
        "    data = df.copy()\n",
        "    data[\"month\"] = data.index.month\n",
        "    data[\"dayofweek\"] = data.index.dayofweek\n",
        "    data[\"hour\"] = data.index.hour\n",
        "    return data[[\"month\",\"dayofweek\",\"hour\"]]\n",
        "\n",
        "  def get_rolling_data(self,\n",
        "                      df: pd.DataFrame,\n",
        "                      parameter: str,\n",
        "                      duration: int,\n",
        "                      duration_unit: str,\n",
        "                      agg_method: str)-> pd.DataFrame:\n",
        "\n",
        "    if duration_unit == \"D\":\n",
        "      total_duration = duration * 24\n",
        "\n",
        "    new_rolling_parameter_name   = f\"{parameter}_rolling_{agg_method}_{duration}_{duration_unit}\"\n",
        "    new_rolling_parameter_f      = df[parameter].rolling(total_duration)\n",
        "    new_rolling_parameter_series = getattr(new_rolling_parameter_f, agg_method)()\n",
        "    new_rolling_parameter_series.name = new_rolling_parameter_name\n",
        "    return new_rolling_parameter_series.to_frame()\n",
        "\n",
        "class DataCleaningService:\n",
        "\n",
        "  def normalize_data(self,\n",
        "                     df: pd.DataFrame,\n",
        "                     start_date: str,\n",
        "                     end_date  : str):\n",
        "\n",
        "    #real_start_date = str(pd.to_datetime(start_date, format = \"%Y-%m-%d\") - pd.Timedelta(offset_rolling_feature_in_h, \"H\"))[:10]\n",
        "\n",
        "    #date_range = f\"{start_date}:{end_date}\"\n",
        "    df.index = pd.to_datetime(df[\"Datetime\"], utc = True)\n",
        "    df = df.drop(columns = [\"Datetime\", \"Resolution code\"])\n",
        "    df = df.loc[start_date:end_date]\n",
        "    return df.apply(lambda x : x.astype(float)).sort_index()\n",
        "\n",
        "  def check_missing_date(self,\n",
        "                         df: pd.DataFrame):\n",
        "    missing_date = pd.date_range(start = df.index[0],\n",
        "                                 end   = df.index[-1] ).difference(df.index)\n",
        "    if len(missing_date) > 0:\n",
        "      return missing_date\n",
        "    else:\n",
        "      return print(\"no missing dates detected!\")\n",
        "\n"
      ]
    },
    {
      "cell_type": "code",
      "source": [],
      "metadata": {
        "id": "o1oq-OpaZDIo"
      },
      "execution_count": null,
      "outputs": []
    }
  ]
}