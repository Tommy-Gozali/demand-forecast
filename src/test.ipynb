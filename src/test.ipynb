{
 "cells": [
  {
   "cell_type": "code",
   "execution_count": 15,
   "metadata": {},
   "outputs": [],
   "source": [
    "import pandas as pd\n",
    "import os\n",
    "from data_processing import steps, data, data_train, data_test, exog_vars, hour_in_week\n",
    "\n",
    "cwd = os.path.abspath(\"\")\n",
    "backtest_result_file_path = os.path.join(cwd, './data/backtest_result.csv')\n",
    "\n",
    "df = pd.read_csv(backtest_result_file_path)\n",
    "df.index = data_test.index"
   ]
  },
  {
   "cell_type": "code",
   "execution_count": 2,
   "metadata": {},
   "outputs": [
    {
     "name": "stderr",
     "output_type": "stream",
     "text": [
      "/home/zeus/miniconda3/envs/cloudspace/lib/python3.10/site-packages/sklearn/base.py:348: InconsistentVersionWarning: Trying to unpickle estimator DecisionTreeRegressor from version 1.4.2 when using version 1.3.2. This might lead to breaking code or invalid results. Use at your own risk. For more info please refer to:\n",
      "https://scikit-learn.org/stable/model_persistence.html#security-maintainability-limitations\n",
      "  warnings.warn(\n",
      "/home/zeus/miniconda3/envs/cloudspace/lib/python3.10/site-packages/sklearn/base.py:348: InconsistentVersionWarning: Trying to unpickle estimator RandomForestRegressor from version 1.4.2 when using version 1.3.2. This might lead to breaking code or invalid results. Use at your own risk. For more info please refer to:\n",
      "https://scikit-learn.org/stable/model_persistence.html#security-maintainability-limitations\n",
      "  warnings.warn(\n",
      "/home/zeus/miniconda3/envs/cloudspace/lib/python3.10/site-packages/sklearn/base.py:348: InconsistentVersionWarning: Trying to unpickle estimator KBinsDiscretizer from version 1.4.2 when using version 1.3.2. This might lead to breaking code or invalid results. Use at your own risk. For more info please refer to:\n",
      "https://scikit-learn.org/stable/model_persistence.html#security-maintainability-limitations\n",
      "  warnings.warn(\n"
     ]
    }
   ],
   "source": [
    "import joblib\n",
    "modelling_file_path = os.path.join(cwd, 'src/modelling/model/forecaster.joblib')\n",
    "backtest_result_file_path = os.path.join(cwd, './data/backtest_result.csv')\n",
    "\n",
    "forecaster = joblib.load(modelling_file_path)\n",
    "regressor_name = str(forecaster.regressor).split('()')[0]"
   ]
  },
  {
   "cell_type": "code",
   "execution_count": null,
   "metadata": {},
   "outputs": [],
   "source": []
  },
  {
   "cell_type": "code",
   "execution_count": 3,
   "metadata": {},
   "outputs": [],
   "source": [
    "from forecast import BacktestingForecaster\n",
    "bf = BacktestingForecaster(forecaster         = forecaster,\n",
    "                          y                  = data['y'],\n",
    "                          steps              = hour_in_week,\n",
    "                          metric             = 'mean_absolute_percentage_error',\n",
    "                          initial_train_size = len(data_train),\n",
    "                          refit              = True,)\n",
    "backtest_indexes = bf._create_backtesting_folds()\n",
    "\n",
    "backtesting_folds_list = bf.get_backtesting_folds(backtest_indexes = backtest_indexes,\n",
    "                         backtest_result_df = df,\n",
    "                         regressor_name= regressor_name)"
   ]
  },
  {
   "cell_type": "code",
   "execution_count": 4,
   "metadata": {},
   "outputs": [
    {
     "data": {
      "text/html": [
       "<div>\n",
       "<style scoped>\n",
       "    .dataframe tbody tr th:only-of-type {\n",
       "        vertical-align: middle;\n",
       "    }\n",
       "\n",
       "    .dataframe tbody tr th {\n",
       "        vertical-align: top;\n",
       "    }\n",
       "\n",
       "    .dataframe thead th {\n",
       "        text-align: right;\n",
       "    }\n",
       "</style>\n",
       "<table border=\"1\" class=\"dataframe\">\n",
       "  <thead>\n",
       "    <tr style=\"text-align: right;\">\n",
       "      <th></th>\n",
       "      <th>y</th>\n",
       "      <th>RandomForestRegressor(max_depth=10, n_estimators=50)</th>\n",
       "    </tr>\n",
       "    <tr>\n",
       "      <th>Datetime</th>\n",
       "      <th></th>\n",
       "      <th></th>\n",
       "    </tr>\n",
       "  </thead>\n",
       "  <tbody>\n",
       "    <tr>\n",
       "      <th>2023-04-21 00:00:00+00:00</th>\n",
       "      <td>7800.6900</td>\n",
       "      <td>7814.054279</td>\n",
       "    </tr>\n",
       "    <tr>\n",
       "      <th>2023-04-21 01:00:00+00:00</th>\n",
       "      <td>7693.6300</td>\n",
       "      <td>7713.332677</td>\n",
       "    </tr>\n",
       "    <tr>\n",
       "      <th>2023-04-21 02:00:00+00:00</th>\n",
       "      <td>7859.2450</td>\n",
       "      <td>7793.479838</td>\n",
       "    </tr>\n",
       "    <tr>\n",
       "      <th>2023-04-21 03:00:00+00:00</th>\n",
       "      <td>8256.8700</td>\n",
       "      <td>8103.770917</td>\n",
       "    </tr>\n",
       "    <tr>\n",
       "      <th>2023-04-21 04:00:00+00:00</th>\n",
       "      <td>8987.8550</td>\n",
       "      <td>8687.300933</td>\n",
       "    </tr>\n",
       "    <tr>\n",
       "      <th>...</th>\n",
       "      <td>...</td>\n",
       "      <td>...</td>\n",
       "    </tr>\n",
       "    <tr>\n",
       "      <th>2023-04-27 18:00:00+00:00</th>\n",
       "      <td>9445.4600</td>\n",
       "      <td>9376.824041</td>\n",
       "    </tr>\n",
       "    <tr>\n",
       "      <th>2023-04-27 19:00:00+00:00</th>\n",
       "      <td>9242.1475</td>\n",
       "      <td>9158.445793</td>\n",
       "    </tr>\n",
       "    <tr>\n",
       "      <th>2023-04-27 20:00:00+00:00</th>\n",
       "      <td>9082.6250</td>\n",
       "      <td>8961.960734</td>\n",
       "    </tr>\n",
       "    <tr>\n",
       "      <th>2023-04-27 21:00:00+00:00</th>\n",
       "      <td>8654.9700</td>\n",
       "      <td>8617.459145</td>\n",
       "    </tr>\n",
       "    <tr>\n",
       "      <th>2023-04-27 22:00:00+00:00</th>\n",
       "      <td>8186.9575</td>\n",
       "      <td>8199.546367</td>\n",
       "    </tr>\n",
       "  </tbody>\n",
       "</table>\n",
       "<p>167 rows × 2 columns</p>\n",
       "</div>"
      ],
      "text/plain": [
       "                                   y  \\\n",
       "Datetime                               \n",
       "2023-04-21 00:00:00+00:00  7800.6900   \n",
       "2023-04-21 01:00:00+00:00  7693.6300   \n",
       "2023-04-21 02:00:00+00:00  7859.2450   \n",
       "2023-04-21 03:00:00+00:00  8256.8700   \n",
       "2023-04-21 04:00:00+00:00  8987.8550   \n",
       "...                              ...   \n",
       "2023-04-27 18:00:00+00:00  9445.4600   \n",
       "2023-04-27 19:00:00+00:00  9242.1475   \n",
       "2023-04-27 20:00:00+00:00  9082.6250   \n",
       "2023-04-27 21:00:00+00:00  8654.9700   \n",
       "2023-04-27 22:00:00+00:00  8186.9575   \n",
       "\n",
       "                           RandomForestRegressor(max_depth=10, n_estimators=50)  \n",
       "Datetime                                                                         \n",
       "2023-04-21 00:00:00+00:00                                        7814.054279     \n",
       "2023-04-21 01:00:00+00:00                                        7713.332677     \n",
       "2023-04-21 02:00:00+00:00                                        7793.479838     \n",
       "2023-04-21 03:00:00+00:00                                        8103.770917     \n",
       "2023-04-21 04:00:00+00:00                                        8687.300933     \n",
       "...                                                                      ...     \n",
       "2023-04-27 18:00:00+00:00                                        9376.824041     \n",
       "2023-04-27 19:00:00+00:00                                        9158.445793     \n",
       "2023-04-27 20:00:00+00:00                                        8961.960734     \n",
       "2023-04-27 21:00:00+00:00                                        8617.459145     \n",
       "2023-04-27 22:00:00+00:00                                        8199.546367     \n",
       "\n",
       "[167 rows x 2 columns]"
      ]
     },
     "execution_count": 4,
     "metadata": {},
     "output_type": "execute_result"
    }
   ],
   "source": [
    "backtesting_folds_list[0]"
   ]
  },
  {
   "cell_type": "code",
   "execution_count": null,
   "metadata": {},
   "outputs": [],
   "source": []
  }
 ],
 "metadata": {
  "kernelspec": {
   "display_name": "Python 3",
   "language": "python",
   "name": "python3"
  },
  "language_info": {
   "codemirror_mode": {
    "name": "ipython",
    "version": 3
   },
   "file_extension": ".py",
   "mimetype": "text/x-python",
   "name": "python",
   "nbconvert_exporter": "python",
   "pygments_lexer": "ipython3",
   "version": "3.12.2"
  }
 },
 "nbformat": 4,
 "nbformat_minor": 2
}
