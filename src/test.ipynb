{
 "cells": [
  {
   "cell_type": "code",
   "execution_count": 1,
   "metadata": {},
   "outputs": [
    {
     "name": "stderr",
     "output_type": "stream",
     "text": [
      "c:\\Users\\alfon\\AppData\\Local\\Programs\\Python\\Python312\\Lib\\site-packages\\tqdm\\auto.py:21: TqdmWarning: IProgress not found. Please update jupyter and ipywidgets. See https://ipywidgets.readthedocs.io/en/stable/user_install.html\n",
      "  from .autonotebook import tqdm as notebook_tqdm\n"
     ]
    },
    {
     "name": "stdout",
     "output_type": "stream",
     "text": [
      "Total Load\n",
      "Most recent forecast\n",
      "Most recent P10\n",
      "Most recent P90\n",
      "Day-ahead 6PM forecast\n",
      "Day-ahead 6PM P10\n",
      "Day-ahead 6PM P90\n",
      "Week-ahead forecast\n",
      "Train dates : 2022-05-25 00:00:00+00:00 --- 2023-04-20 23:00:00+00:00  (n=7944)\n",
      "Test dates  : 2023-04-21 00:00:00+00:00 --- 2023-06-15 23:00:00+00:00  (n=1344)\n"
     ]
    }
   ],
   "source": [
    "import pandas as pd\n",
    "import os\n",
    "from data_processing import steps, data, data_train, data_test, exog_vars, hour_in_week\n",
    "\n",
    "cwd = os.path.abspath(\"\")\n",
    "backtest_result_file_path = os.path.join(cwd, '../data/backtest_result.csv')\n",
    "\n",
    "df = pd.read_csv(backtest_result_file_path)"
   ]
  },
  {
   "cell_type": "code",
   "execution_count": 13,
   "metadata": {},
   "outputs": [
    {
     "name": "stdout",
     "output_type": "stream",
     "text": [
      "Information of backtesting process\n",
      "----------------------------------\n",
      "Number of observations used for initial training: 96\n",
      "Number of observations used for backtesting: 108\n",
      "    Number of folds: 11\n",
      "    Number of steps per fold: 10\n",
      "    Number of steps to exclude from the end of each train set before test (gap): 0\n",
      "    Last fold only includes 8 observations.\n",
      "\n",
      "Fold: 0\n",
      "    Training:   1991-07-01 00:00:00 -- 1999-06-01 00:00:00  (n=96)\n",
      "    Validation: 1999-07-01 00:00:00 -- 2000-04-01 00:00:00  (n=10)\n",
      "Fold: 1\n",
      "    Training:   1992-05-01 00:00:00 -- 2000-04-01 00:00:00  (n=96)\n",
      "    Validation: 2000-05-01 00:00:00 -- 2001-02-01 00:00:00  (n=10)\n",
      "Fold: 2\n",
      "    Training:   1993-03-01 00:00:00 -- 2001-02-01 00:00:00  (n=96)\n",
      "    Validation: 2001-03-01 00:00:00 -- 2001-12-01 00:00:00  (n=10)\n",
      "Fold: 3\n",
      "    Training:   1994-01-01 00:00:00 -- 2001-12-01 00:00:00  (n=96)\n",
      "    Validation: 2002-01-01 00:00:00 -- 2002-10-01 00:00:00  (n=10)\n",
      "Fold: 4\n",
      "    Training:   1994-11-01 00:00:00 -- 2002-10-01 00:00:00  (n=96)\n",
      "    Validation: 2002-11-01 00:00:00 -- 2003-08-01 00:00:00  (n=10)\n",
      "Fold: 5\n",
      "    Training:   1995-09-01 00:00:00 -- 2003-08-01 00:00:00  (n=96)\n",
      "    Validation: 2003-09-01 00:00:00 -- 2004-06-01 00:00:00  (n=10)\n",
      "Fold: 6\n",
      "    Training:   1996-07-01 00:00:00 -- 2004-06-01 00:00:00  (n=96)\n",
      "    Validation: 2004-07-01 00:00:00 -- 2005-04-01 00:00:00  (n=10)\n",
      "Fold: 7\n",
      "    Training:   1997-05-01 00:00:00 -- 2005-04-01 00:00:00  (n=96)\n",
      "    Validation: 2005-05-01 00:00:00 -- 2006-02-01 00:00:00  (n=10)\n",
      "Fold: 8\n",
      "    Training:   1998-03-01 00:00:00 -- 2006-02-01 00:00:00  (n=96)\n",
      "    Validation: 2006-03-01 00:00:00 -- 2006-12-01 00:00:00  (n=10)\n",
      "Fold: 9\n",
      "    Training:   1999-01-01 00:00:00 -- 2006-12-01 00:00:00  (n=96)\n",
      "    Validation: 2007-01-01 00:00:00 -- 2007-10-01 00:00:00  (n=10)\n",
      "Fold: 10\n",
      "    Training:   1999-11-01 00:00:00 -- 2007-10-01 00:00:00  (n=96)\n",
      "    Validation: 2007-11-01 00:00:00 -- 2008-06-01 00:00:00  (n=8)\n",
      "\n"
     ]
    },
    {
     "name": "stderr",
     "output_type": "stream",
     "text": [
      "100%|██████████| 11/11 [00:00<00:00, 196.73it/s]\n"
     ]
    },
    {
     "name": "stdout",
     "output_type": "stream",
     "text": [
      "Number of folds: 108\n",
      "Fold 0: pred\n"
     ]
    }
   ],
   "source": [
    "import pandas as pd\n",
    "from skforecast.ForecasterAutoreg import ForecasterAutoreg\n",
    "from skforecast.model_selection import backtesting_forecaster\n",
    "from sklearn.ensemble import RandomForestRegressor\n",
    "\n",
    "# Load your data\n",
    "url = 'https://raw.githubusercontent.com/JoaquinAmatRodrigo/skforecast/master/data/h2o.csv'\n",
    "data = pd.read_csv(url, sep=',', header=0, names=['y', 'datetime'])\n",
    "data['datetime'] = pd.to_datetime(data['datetime'], format='%Y-%m-%d')\n",
    "data = data.set_index('datetime')\n",
    "data = data.asfreq('MS')\n",
    "data = data[['y']]\n",
    "\n",
    "# Split data into training and backtesting sets\n",
    "n_backtest = 36 * 3  # Last 9 years for backtesting\n",
    "data_train = data[:-n_backtest]\n",
    "data_backtest = data[-n_backtest:]\n",
    "\n",
    "# Initialize the forecaster\n",
    "forecaster = ForecasterAutoreg(\n",
    "    regressor=RandomForestRegressor(random_state=123),\n",
    "    lags=15\n",
    ")\n",
    "\n",
    "# Perform backtesting\n",
    "metric, predictions_backtest = backtesting_forecaster(\n",
    "    forecaster=forecaster,\n",
    "    y=data['y'],\n",
    "    initial_train_size=len(data_train),\n",
    "    steps=10,\n",
    "    metric='mean_squared_error',\n",
    "    refit=True,\n",
    "    verbose=True\n",
    ")\n",
    "\n",
    "# Print fold information\n",
    "print(f\"Number of folds: {len(predictions_backtest)}\")\n",
    "for i, fold in enumerate(predictions_backtest):\n",
    "    print(f\"Fold {i}: {fold}\")\n"
   ]
  },
  {
   "cell_type": "code",
   "execution_count": 1,
   "metadata": {},
   "outputs": [
    {
     "name": "stderr",
     "output_type": "stream",
     "text": [
      "c:\\Users\\alfon\\AppData\\Local\\Programs\\Python\\Python312\\Lib\\site-packages\\tqdm\\auto.py:21: TqdmWarning: IProgress not found. Please update jupyter and ipywidgets. See https://ipywidgets.readthedocs.io/en/stable/user_install.html\n",
      "  from .autonotebook import tqdm as notebook_tqdm\n"
     ]
    }
   ],
   "source": [
    "import pandas as pd\n",
    "from skforecast.ForecasterAutoreg import ForecasterAutoreg\n",
    "from skforecast.model_selection import backtesting_forecaster\n",
    "from sklearn.ensemble import RandomForestRegressor\n",
    "from forecast import BacktestingForecaster\n",
    "\n",
    "# Load your data\n",
    "url = 'https://raw.githubusercontent.com/JoaquinAmatRodrigo/skforecast/master/data/h2o.csv'\n",
    "data = pd.read_csv(url, sep=',', header=0, names=['y', 'datetime'])\n",
    "data['datetime'] = pd.to_datetime(data['datetime'], format='%Y-%m-%d')\n",
    "data = data.set_index('datetime')\n",
    "data = data.asfreq('MS')\n",
    "data = data[['y']]\n",
    "\n",
    "# Split data into training and backtesting sets\n",
    "n_backtest = 36 * 3  # Last 9 years for backtesting\n",
    "data_train = data[:-n_backtest]\n",
    "data_backtest = data[-n_backtest:]\n",
    "\n",
    "# Initialize the forecaster\n",
    "forecaster = ForecasterAutoreg(\n",
    "    regressor=RandomForestRegressor(random_state=123),\n",
    "    lags=15\n",
    ")\n",
    "bf = BacktestingForecaster(\n",
    "    forecaster=forecaster,\n",
    "    y=data['y'],\n",
    "    initial_train_size=len(data_train),\n",
    "    steps=10,\n",
    "    metric='mean_squared_error',\n",
    ")\n"
   ]
  },
  {
   "cell_type": "code",
   "execution_count": 2,
   "metadata": {},
   "outputs": [],
   "source": [
    "fold_training_index, fold_validation_index = bf._create_backtesting_folds()"
   ]
  },
  {
   "cell_type": "code",
   "execution_count": 3,
   "metadata": {},
   "outputs": [
    {
     "name": "stdout",
     "output_type": "stream",
     "text": [
      "Information of backtesting process\n",
      "----------------------------------\n",
      "Number of observations used for initial training: 96\n",
      "Number of observations used for backtesting: 108\n",
      "    Number of folds: 11\n",
      "    Number of steps per fold: 10\n",
      "    Number of steps to exclude from the end of each train set before test (gap): 0\n",
      "    Last fold only includes 8 observations.\n",
      "\n",
      "Fold: 0\n",
      "    Training:   1991-07-01 00:00:00 -- 1999-06-01 00:00:00  (n=96)\n",
      "    Validation: 1999-07-01 00:00:00 -- 2000-04-01 00:00:00  (n=10)\n",
      "Fold: 1\n",
      "    Training:   1992-05-01 00:00:00 -- 2000-04-01 00:00:00  (n=96)\n",
      "    Validation: 2000-05-01 00:00:00 -- 2001-02-01 00:00:00  (n=10)\n",
      "Fold: 2\n",
      "    Training:   1993-03-01 00:00:00 -- 2001-02-01 00:00:00  (n=96)\n",
      "    Validation: 2001-03-01 00:00:00 -- 2001-12-01 00:00:00  (n=10)\n",
      "Fold: 3\n",
      "    Training:   1994-01-01 00:00:00 -- 2001-12-01 00:00:00  (n=96)\n",
      "    Validation: 2002-01-01 00:00:00 -- 2002-10-01 00:00:00  (n=10)\n",
      "Fold: 4\n",
      "    Training:   1994-11-01 00:00:00 -- 2002-10-01 00:00:00  (n=96)\n",
      "    Validation: 2002-11-01 00:00:00 -- 2003-08-01 00:00:00  (n=10)\n",
      "Fold: 5\n",
      "    Training:   1995-09-01 00:00:00 -- 2003-08-01 00:00:00  (n=96)\n",
      "    Validation: 2003-09-01 00:00:00 -- 2004-06-01 00:00:00  (n=10)\n",
      "Fold: 6\n",
      "    Training:   1996-07-01 00:00:00 -- 2004-06-01 00:00:00  (n=96)\n",
      "    Validation: 2004-07-01 00:00:00 -- 2005-04-01 00:00:00  (n=10)\n",
      "Fold: 7\n",
      "    Training:   1997-05-01 00:00:00 -- 2005-04-01 00:00:00  (n=96)\n",
      "    Validation: 2005-05-01 00:00:00 -- 2006-02-01 00:00:00  (n=10)\n",
      "Fold: 8\n",
      "    Training:   1998-03-01 00:00:00 -- 2006-02-01 00:00:00  (n=96)\n",
      "    Validation: 2006-03-01 00:00:00 -- 2006-12-01 00:00:00  (n=10)\n",
      "Fold: 9\n",
      "    Training:   1999-01-01 00:00:00 -- 2006-12-01 00:00:00  (n=96)\n",
      "    Validation: 2007-01-01 00:00:00 -- 2007-10-01 00:00:00  (n=10)\n",
      "Fold: 10\n",
      "    Training:   1999-11-01 00:00:00 -- 2007-10-01 00:00:00  (n=96)\n",
      "    Validation: 2007-11-01 00:00:00 -- 2008-06-01 00:00:00  (n=8)\n",
      "\n"
     ]
    },
    {
     "name": "stderr",
     "output_type": "stream",
     "text": [
      "100%|██████████| 11/11 [00:00<00:00, 300.68it/s]\n"
     ]
    }
   ],
   "source": [
    "# Perform backtesting\n",
    "metric, predictions_backtest = backtesting_forecaster(\n",
    "    forecaster=forecaster,\n",
    "    y=data['y'],\n",
    "    initial_train_size=len(data_train),\n",
    "    steps=10,\n",
    "    metric='mean_squared_error',\n",
    "    refit=True,\n",
    "    verbose=True\n",
    ")"
   ]
  },
  {
   "cell_type": "code",
   "execution_count": 41,
   "metadata": {},
   "outputs": [
    {
     "data": {
      "text/plain": [
       "'\\n   folds = _create_backtesting_folds(\\n                data                  = y,\\n                window_size           = window_size,\\n                initial_train_size    = initial_train_size,\\n                test_size             = steps,\\n                externally_fitted     = externally_fitted,\\n                refit                 = refit,\\n                fixed_train_size      = fixed_train_size,\\n                gap                   = gap,\\n                skip_folds            = skip_folds,\\n                allow_incomplete_fold = allow_incomplete_fold,\\n                return_all_indexes    = False,\\n                differentiation       = differentiation,\\n                verbose               = verbose\\n\\n'"
      ]
     },
     "execution_count": 41,
     "metadata": {},
     "output_type": "execute_result"
    }
   ],
   "source": [
    "\"\"\"\n",
    "   folds = _create_backtesting_folds(\n",
    "                data                  = y,\n",
    "                window_size           = window_size,\n",
    "                initial_train_size    = initial_train_size,\n",
    "                test_size             = steps,\n",
    "                externally_fitted     = externally_fitted,\n",
    "                refit                 = refit,\n",
    "                fixed_train_size      = fixed_train_size,\n",
    "                gap                   = gap,\n",
    "                skip_folds            = skip_folds,\n",
    "                allow_incomplete_fold = allow_incomplete_fold,\n",
    "                return_all_indexes    = False,\n",
    "                differentiation       = differentiation,\n",
    "                verbose               = verbose\n",
    "                forecaster.window_size_diff\n",
    "\n",
    "\"\"\""
   ]
  },
  {
   "cell_type": "code",
   "execution_count": 46,
   "metadata": {},
   "outputs": [
    {
     "name": "stdout",
     "output_type": "stream",
     "text": [
      "Information of backtesting process\n",
      "----------------------------------\n",
      "Number of observations used for initial training: 96\n",
      "Number of observations used for backtesting: 108\n",
      "    Number of folds: 11\n",
      "    Number of steps per fold: 10\n",
      "    Number of steps to exclude from the end of each train set before test (gap): 0\n",
      "    Last fold only includes 8 observations.\n",
      "\n",
      "Fold: 0\n",
      "    Training:   1991-07-01 00:00:00 -- 1999-06-01 00:00:00  (n=96)\n",
      "    Validation: 1999-07-01 00:00:00 -- 2000-04-01 00:00:00  (n=10)\n",
      "Fold: 1\n",
      "    Training:   1992-05-01 00:00:00 -- 2000-04-01 00:00:00  (n=96)\n",
      "    Validation: 2000-05-01 00:00:00 -- 2001-02-01 00:00:00  (n=10)\n",
      "Fold: 2\n",
      "    Training:   1993-03-01 00:00:00 -- 2001-02-01 00:00:00  (n=96)\n",
      "    Validation: 2001-03-01 00:00:00 -- 2001-12-01 00:00:00  (n=10)\n",
      "Fold: 3\n",
      "    Training:   1994-01-01 00:00:00 -- 2001-12-01 00:00:00  (n=96)\n",
      "    Validation: 2002-01-01 00:00:00 -- 2002-10-01 00:00:00  (n=10)\n",
      "Fold: 4\n",
      "    Training:   1994-11-01 00:00:00 -- 2002-10-01 00:00:00  (n=96)\n",
      "    Validation: 2002-11-01 00:00:00 -- 2003-08-01 00:00:00  (n=10)\n",
      "Fold: 5\n",
      "    Training:   1995-09-01 00:00:00 -- 2003-08-01 00:00:00  (n=96)\n",
      "    Validation: 2003-09-01 00:00:00 -- 2004-06-01 00:00:00  (n=10)\n",
      "Fold: 6\n",
      "    Training:   1996-07-01 00:00:00 -- 2004-06-01 00:00:00  (n=96)\n",
      "    Validation: 2004-07-01 00:00:00 -- 2005-04-01 00:00:00  (n=10)\n",
      "Fold: 7\n",
      "    Training:   1997-05-01 00:00:00 -- 2005-04-01 00:00:00  (n=96)\n",
      "    Validation: 2005-05-01 00:00:00 -- 2006-02-01 00:00:00  (n=10)\n",
      "Fold: 8\n",
      "    Training:   1998-03-01 00:00:00 -- 2006-02-01 00:00:00  (n=96)\n",
      "    Validation: 2006-03-01 00:00:00 -- 2006-12-01 00:00:00  (n=10)\n",
      "Fold: 9\n",
      "    Training:   1999-01-01 00:00:00 -- 2006-12-01 00:00:00  (n=96)\n",
      "    Validation: 2007-01-01 00:00:00 -- 2007-10-01 00:00:00  (n=10)\n",
      "Fold: 10\n",
      "    Training:   1999-11-01 00:00:00 -- 2007-10-01 00:00:00  (n=96)\n",
      "    Validation: 2007-11-01 00:00:00 -- 2008-06-01 00:00:00  (n=8)\n",
      "\n"
     ]
    }
   ],
   "source": [
    "from skforecast.model_selection import _create_backtesting_folds\n",
    "\n",
    "backtesting_folds = _create_backtesting_folds(\n",
    "    data =data['y'],\n",
    "    initial_train_size=len(data_train),\n",
    "    refit=True,\n",
    "    test_size= 10,\n",
    "    window_size=forecaster.window_size_diff,\n",
    "\n",
    ")\n",
    "\n"
   ]
  },
  {
   "cell_type": "code",
   "execution_count": 48,
   "metadata": {},
   "outputs": [
    {
     "data": {
      "text/plain": [
       "11"
      ]
     },
     "execution_count": 48,
     "metadata": {},
     "output_type": "execute_result"
    }
   ],
   "source": [
    "len(backtesting_folds)"
   ]
  },
  {
   "cell_type": "code",
   "execution_count": null,
   "metadata": {},
   "outputs": [],
   "source": []
  }
 ],
 "metadata": {
  "kernelspec": {
   "display_name": "Python 3",
   "language": "python",
   "name": "python3"
  },
  "language_info": {
   "codemirror_mode": {
    "name": "ipython",
    "version": 3
   },
   "file_extension": ".py",
   "mimetype": "text/x-python",
   "name": "python",
   "nbconvert_exporter": "python",
   "pygments_lexer": "ipython3",
   "version": "3.12.2"
  }
 },
 "nbformat": 4,
 "nbformat_minor": 2
}
