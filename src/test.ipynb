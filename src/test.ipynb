{
 "cells": [
  {
   "cell_type": "code",
   "execution_count": 15,
   "metadata": {},
   "outputs": [],
   "source": [
    "import pandas as pd\n",
    "import os\n",
    "from data_processing import steps, data, data_train, data_test, exog_vars, hour_in_week\n",
    "\n",
    "cwd = os.path.abspath(\"\")\n",
    "backtest_result_file_path = os.path.join(cwd, './data/backtest_result.csv')\n",
    "\n",
    "df = pd.read_csv(backtest_result_file_path)\n",
    "df.index = data_test.index"
   ]
  },
  {
   "cell_type": "code",
   "execution_count": 2,
   "metadata": {},
   "outputs": [
    {
     "name": "stderr",
     "output_type": "stream",
     "text": [
      "/home/zeus/miniconda3/envs/cloudspace/lib/python3.10/site-packages/sklearn/base.py:348: InconsistentVersionWarning: Trying to unpickle estimator DecisionTreeRegressor from version 1.4.2 when using version 1.3.2. This might lead to breaking code or invalid results. Use at your own risk. For more info please refer to:\n",
      "https://scikit-learn.org/stable/model_persistence.html#security-maintainability-limitations\n",
      "  warnings.warn(\n",
      "/home/zeus/miniconda3/envs/cloudspace/lib/python3.10/site-packages/sklearn/base.py:348: InconsistentVersionWarning: Trying to unpickle estimator RandomForestRegressor from version 1.4.2 when using version 1.3.2. This might lead to breaking code or invalid results. Use at your own risk. For more info please refer to:\n",
      "https://scikit-learn.org/stable/model_persistence.html#security-maintainability-limitations\n",
      "  warnings.warn(\n",
      "/home/zeus/miniconda3/envs/cloudspace/lib/python3.10/site-packages/sklearn/base.py:348: InconsistentVersionWarning: Trying to unpickle estimator KBinsDiscretizer from version 1.4.2 when using version 1.3.2. This might lead to breaking code or invalid results. Use at your own risk. For more info please refer to:\n",
      "https://scikit-learn.org/stable/model_persistence.html#security-maintainability-limitations\n",
      "  warnings.warn(\n"
     ]
    }
   ],
   "source": [
    "import joblib\n",
    "modelling_file_path = os.path.join(cwd, 'src/modelling/model/forecaster.joblib')\n",
    "backtest_result_file_path = os.path.join(cwd, './data/backtest_result.csv')\n",
    "\n",
    "forecaster = joblib.load(modelling_file_path)\n",
    "regressor_name = str(forecaster.regressor).split('()')[0]"
   ]
  },
  {
   "cell_type": "code",
   "execution_count": 3,
   "metadata": {},
   "outputs": [],
   "source": [
    "from forecast import BacktestingForecaster\n",
    "bf = BacktestingForecaster(forecaster         = forecaster,\n",
    "                          y                  = data['y'],\n",
    "                          steps              = hour_in_week,\n",
    "                          metric             = 'mean_absolute_percentage_error',\n",
    "                          initial_train_size = len(data_train),\n",
    "                          refit              = True,)\n",
    "backtest_indexes = bf._create_backtesting_folds()\n",
    "\n",
    "backtesting_folds_list = bf.get_backtesting_folds(backtest_indexes = backtest_indexes,\n",
    "                         backtest_result_df = df,\n",
    "                         regressor_name= regressor_name)"
   ]
  },
  {
   "cell_type": "code",
   "execution_count": null,
   "metadata": {},
   "outputs": [],
   "source": []
  }
 ],
 "metadata": {
  "kernelspec": {
   "display_name": "Python 3",
   "language": "python",
   "name": "python3"
  },
  "language_info": {
   "codemirror_mode": {
    "name": "ipython",
    "version": 3
   },
   "file_extension": ".py",
   "mimetype": "text/x-python",
   "name": "python",
   "nbconvert_exporter": "python",
   "pygments_lexer": "ipython3",
   "version": "3.12.2"
  }
 },
 "nbformat": 4,
 "nbformat_minor": 2
}
