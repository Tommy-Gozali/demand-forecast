{
  "nbformat": 4,
  "nbformat_minor": 0,
  "metadata": {
    "colab": {
      "provenance": [],
      "authorship_tag": "ABX9TyOlZuk9fx7EQZg9EFwJdecF",
      "include_colab_link": true
    },
    "kernelspec": {
      "name": "python3",
      "display_name": "Python 3"
    },
    "language_info": {
      "name": "python"
    }
  },
  "cells": [
    {
      "cell_type": "markdown",
      "metadata": {
        "id": "view-in-github",
        "colab_type": "text"
      },
      "source": [
        "<a href=\"https://colab.research.google.com/github/Tommy-Gozali/demand-forecast/blob/main/get_exog_data.ipynb\" target=\"_parent\"><img src=\"https://colab.research.google.com/assets/colab-badge.svg\" alt=\"Open In Colab\"/></a>"
      ]
    },
    {
      "cell_type": "code",
      "execution_count": null,
      "metadata": {
        "id": "g4anbR-wTz1T"
      },
      "outputs": [],
      "source": [
        "import requests\n",
        "import json\n",
        "import pandas as pd\n",
        "\n",
        "class OpenMeteoApi:\n",
        "  \"class to get data from open-meteo\"\n",
        "  def __init__(self, longitude, latitude):\n",
        "    self.longitude = longitude\n",
        "    self.latitude  = latitude\n",
        "\n",
        "  def initiate_parameters(self,\n",
        "                          start_date: str,\n",
        "                          end_date  : str,\n",
        "                          parameters: list\n",
        "                          ) -> str:\n",
        "    if (parameters, list):\n",
        "      if len(parameters) == 0:\n",
        "        print(\"missing parameter in the list\")\n",
        "      else:\n",
        "        parameters_str = \",\".join(parameters)\n",
        "\n",
        "    url = f\"latitude={self.latitude}\" + \"&\" + f\"longitude={self.longitude}\" + \"&\" +\\\n",
        "          f\"hourly={parameters_str}\"  + \"&\" +\\\n",
        "          f\"start_date={start_date}\"  + \"&\" + f\"end_date={end_date}\"\n",
        "    return url\n",
        "\n",
        "  def response_2_dataframe(self,\n",
        "                           url: str) -> pd.DataFrame:\n",
        "\n",
        "    response = requests.get(url).content\n",
        "    data_ = pd.DataFrame(json.loads(response)[\"hourly\"]).set_index(\"time\")\n",
        "    data_.index = pd.to_datetime(data_.index, utc = True)\n",
        "    return data_\n",
        "\n",
        "\n",
        "  def get_historical_actual_data(self,\n",
        "                                 parameters_ : str) -> pd.DataFrame:\n",
        "\n",
        "    base_url = \"https://archive-api.open-meteo.com/v1/archive?\"\n",
        "    mod_url  = base_url + parameters_\n",
        "    data_ = self.response_2_dataframe(mod_url)\n",
        "    return data_\n",
        "\n",
        "  def get_historical_forecast_data(self,\n",
        "                                   parameters_ : str) -> pd.DataFrame:\n",
        "\n",
        "    base_url = \"https://previous-runs-api.open-meteo.com/v1/forecast?\"\n",
        "    mod_url  = base_url + parameters_\n",
        "    data_ = self.response_2_dataframe(mod_url)\n",
        "    return data_\n",
        "\n",
        "  def get_current_forecast_data(self,\n",
        "                                   parameters_ : str) -> pd.DataFrame:\n",
        "\n",
        "    base_url = \"https://api.open-meteo.com/v1/forecast?\"\n",
        "    mod_url  = base_url + parameters_\n",
        "    data_ = self.response_2_dataframe(mod_url)\n",
        "    return data_"
      ]
    },
    {
      "cell_type": "code",
      "source": [],
      "metadata": {
        "id": "4-CQzPzIeV8v"
      },
      "execution_count": null,
      "outputs": []
    }
  ]
}